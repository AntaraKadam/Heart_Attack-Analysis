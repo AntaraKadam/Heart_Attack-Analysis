{
  "nbformat": 4,
  "nbformat_minor": 0,
  "metadata": {
    "colab": {
      "provenance": []
    },
    "kernelspec": {
      "name": "python3",
      "display_name": "Python 3"
    },
    "language_info": {
      "name": "python"
    }
  },
  "cells": [
    {
      "cell_type": "code",
      "execution_count": 1,
      "metadata": {
        "colab": {
          "base_uri": "https://localhost:8080/"
        },
        "id": "oqKjwn2PdCkw",
        "outputId": "6cd33b12-aeb8-4820-9622-2b07fcdc26c5"
      },
      "outputs": [
        {
          "output_type": "stream",
          "name": "stdout",
          "text": [
            "Collecting pyspark\n",
            "  Downloading pyspark-3.5.1.tar.gz (317.0 MB)\n",
            "\u001b[2K     \u001b[90m━━━━━━━━━━━━━━━━━━━━━━━━━━━━━━━━━━━━━━━━\u001b[0m \u001b[32m317.0/317.0 MB\u001b[0m \u001b[31m3.8 MB/s\u001b[0m eta \u001b[36m0:00:00\u001b[0m\n",
            "\u001b[?25h  Preparing metadata (setup.py) ... \u001b[?25l\u001b[?25hdone\n",
            "Requirement already satisfied: py4j==0.10.9.7 in /usr/local/lib/python3.10/dist-packages (from pyspark) (0.10.9.7)\n",
            "Building wheels for collected packages: pyspark\n",
            "  Building wheel for pyspark (setup.py) ... \u001b[?25l\u001b[?25hdone\n",
            "  Created wheel for pyspark: filename=pyspark-3.5.1-py2.py3-none-any.whl size=317488491 sha256=ae51d2cf731265144907902d3e9bb16f2b41989b0e873fba154242a40d57af33\n",
            "  Stored in directory: /root/.cache/pip/wheels/80/1d/60/2c256ed38dddce2fdd93be545214a63e02fbd8d74fb0b7f3a6\n",
            "Successfully built pyspark\n",
            "Installing collected packages: pyspark\n",
            "Successfully installed pyspark-3.5.1\n"
          ]
        }
      ],
      "source": [
        "pip install pyspark"
      ]
    },
    {
      "cell_type": "code",
      "source": [
        "from pyspark.sql import SparkSession"
      ],
      "metadata": {
        "id": "_kFYuzMMdgAt"
      },
      "execution_count": 2,
      "outputs": []
    },
    {
      "cell_type": "code",
      "source": [
        "spark=SparkSession.builder.appName('Missing').getOrCreate()"
      ],
      "metadata": {
        "id": "mSt_cVhVdqRT"
      },
      "execution_count": 3,
      "outputs": []
    },
    {
      "cell_type": "code",
      "source": [
        "training=spark.read.csv('/content/heart.csv',header=True,inferSchema=True)"
      ],
      "metadata": {
        "id": "-7KheXCIeL-0"
      },
      "execution_count": 4,
      "outputs": []
    },
    {
      "cell_type": "code",
      "source": [
        "training.show()"
      ],
      "metadata": {
        "colab": {
          "base_uri": "https://localhost:8080/"
        },
        "id": "hBj1S2zff3v-",
        "outputId": "88f1ffc6-9122-4fd4-b160-995b2fc0a55f"
      },
      "execution_count": 5,
      "outputs": [
        {
          "output_type": "stream",
          "name": "stdout",
          "text": [
            "+---+---+---+------+----+---+-------+--------+----+-------+---+---+-----+------+\n",
            "|age|sex| cp|trtbps|chol|fbs|restecg|thalachh|exng|oldpeak|slp|caa|thall|output|\n",
            "+---+---+---+------+----+---+-------+--------+----+-------+---+---+-----+------+\n",
            "| 63|  1|  3|   145| 233|  1|      0|     150|   0|    2.3|  0|  0|    1|     1|\n",
            "| 37|  1|  2|   130| 250|  0|      1|     187|   0|    3.5|  0|  0|    2|     1|\n",
            "| 41|  0|  1|   130| 204|  0|      0|     172|   0|    1.4|  2|  0|    2|     1|\n",
            "| 56|  1|  1|   120| 236|  0|      1|     178|   0|    0.8|  2|  0|    2|     1|\n",
            "| 57|  0|  0|   120| 354|  0|      1|     163|   1|    0.6|  2|  0|    2|     1|\n",
            "| 57|  1|  0|   140| 192|  0|      1|     148|   0|    0.4|  1|  0|    1|     1|\n",
            "| 56|  0|  1|   140| 294|  0|      0|     153|   0|    1.3|  1|  0|    2|     1|\n",
            "| 44|  1|  1|   120| 263|  0|      1|     173|   0|    0.0|  2|  0|    3|     1|\n",
            "| 52|  1|  2|   172| 199|  1|      1|     162|   0|    0.5|  2|  0|    3|     1|\n",
            "| 57|  1|  2|   150| 168|  0|      1|     174|   0|    1.6|  2|  0|    2|     1|\n",
            "| 54|  1|  0|   140| 239|  0|      1|     160|   0|    1.2|  2|  0|    2|     1|\n",
            "| 48|  0|  2|   130| 275|  0|      1|     139|   0|    0.2|  2|  0|    2|     1|\n",
            "| 49|  1|  1|   130| 266|  0|      1|     171|   0|    0.6|  2|  0|    2|     1|\n",
            "| 64|  1|  3|   110| 211|  0|      0|     144|   1|    1.8|  1|  0|    2|     1|\n",
            "| 58|  0|  3|   150| 283|  1|      0|     162|   0|    1.0|  2|  0|    2|     1|\n",
            "| 50|  0|  2|   120| 219|  0|      1|     158|   0|    1.6|  1|  0|    2|     1|\n",
            "| 58|  0|  2|   120| 340|  0|      1|     172|   0|    0.0|  2|  0|    2|     1|\n",
            "| 66|  0|  3|   150| 226|  0|      1|     114|   0|    2.6|  0|  0|    2|     1|\n",
            "| 43|  1|  0|   150| 247|  0|      1|     171|   0|    1.5|  2|  0|    2|     1|\n",
            "| 69|  0|  3|   140| 239|  0|      1|     151|   0|    1.8|  2|  2|    2|     1|\n",
            "+---+---+---+------+----+---+-------+--------+----+-------+---+---+-----+------+\n",
            "only showing top 20 rows\n",
            "\n"
          ]
        }
      ]
    },
    {
      "cell_type": "code",
      "source": [
        "training.columns"
      ],
      "metadata": {
        "colab": {
          "base_uri": "https://localhost:8080/"
        },
        "id": "6YTBWJnFf8oM",
        "outputId": "63923c48-097e-458c-b636-89b6cae3955b"
      },
      "execution_count": 6,
      "outputs": [
        {
          "output_type": "execute_result",
          "data": {
            "text/plain": [
              "['age',\n",
              " 'sex',\n",
              " 'cp',\n",
              " 'trtbps',\n",
              " 'chol',\n",
              " 'fbs',\n",
              " 'restecg',\n",
              " 'thalachh',\n",
              " 'exng',\n",
              " 'oldpeak',\n",
              " 'slp',\n",
              " 'caa',\n",
              " 'thall',\n",
              " 'output']"
            ]
          },
          "metadata": {},
          "execution_count": 6
        }
      ]
    },
    {
      "cell_type": "code",
      "source": [
        "from pyspark.ml.feature import VectorAssembler"
      ],
      "metadata": {
        "id": "XVQB4kdxgjgX"
      },
      "execution_count": 7,
      "outputs": []
    },
    {
      "cell_type": "code",
      "source": [
        "feature=VectorAssembler(inputCols=['age', 'sex', 'cp', 'trtbps', 'chol', 'fbs', 'restecg', 'thalachh', 'exng', 'oldpeak', 'slp', 'caa', 'thall'],outputCol='Independent features')"
      ],
      "metadata": {
        "id": "nowtrlDRgs_B"
      },
      "execution_count": 8,
      "outputs": []
    },
    {
      "cell_type": "code",
      "source": [
        "output=feature.transform(training)"
      ],
      "metadata": {
        "id": "cE8gNTEXhDxY"
      },
      "execution_count": 9,
      "outputs": []
    },
    {
      "cell_type": "code",
      "source": [
        "output.show()"
      ],
      "metadata": {
        "colab": {
          "base_uri": "https://localhost:8080/"
        },
        "id": "DHcwmr1dhQMg",
        "outputId": "9acff4bb-89ab-4f88-d9bf-e5448d853735"
      },
      "execution_count": 10,
      "outputs": [
        {
          "output_type": "stream",
          "name": "stdout",
          "text": [
            "+---+---+---+------+----+---+-------+--------+----+-------+---+---+-----+------+--------------------+\n",
            "|age|sex| cp|trtbps|chol|fbs|restecg|thalachh|exng|oldpeak|slp|caa|thall|output|Independent features|\n",
            "+---+---+---+------+----+---+-------+--------+----+-------+---+---+-----+------+--------------------+\n",
            "| 63|  1|  3|   145| 233|  1|      0|     150|   0|    2.3|  0|  0|    1|     1|[63.0,1.0,3.0,145...|\n",
            "| 37|  1|  2|   130| 250|  0|      1|     187|   0|    3.5|  0|  0|    2|     1|[37.0,1.0,2.0,130...|\n",
            "| 41|  0|  1|   130| 204|  0|      0|     172|   0|    1.4|  2|  0|    2|     1|[41.0,0.0,1.0,130...|\n",
            "| 56|  1|  1|   120| 236|  0|      1|     178|   0|    0.8|  2|  0|    2|     1|[56.0,1.0,1.0,120...|\n",
            "| 57|  0|  0|   120| 354|  0|      1|     163|   1|    0.6|  2|  0|    2|     1|[57.0,0.0,0.0,120...|\n",
            "| 57|  1|  0|   140| 192|  0|      1|     148|   0|    0.4|  1|  0|    1|     1|[57.0,1.0,0.0,140...|\n",
            "| 56|  0|  1|   140| 294|  0|      0|     153|   0|    1.3|  1|  0|    2|     1|[56.0,0.0,1.0,140...|\n",
            "| 44|  1|  1|   120| 263|  0|      1|     173|   0|    0.0|  2|  0|    3|     1|[44.0,1.0,1.0,120...|\n",
            "| 52|  1|  2|   172| 199|  1|      1|     162|   0|    0.5|  2|  0|    3|     1|[52.0,1.0,2.0,172...|\n",
            "| 57|  1|  2|   150| 168|  0|      1|     174|   0|    1.6|  2|  0|    2|     1|[57.0,1.0,2.0,150...|\n",
            "| 54|  1|  0|   140| 239|  0|      1|     160|   0|    1.2|  2|  0|    2|     1|[54.0,1.0,0.0,140...|\n",
            "| 48|  0|  2|   130| 275|  0|      1|     139|   0|    0.2|  2|  0|    2|     1|[48.0,0.0,2.0,130...|\n",
            "| 49|  1|  1|   130| 266|  0|      1|     171|   0|    0.6|  2|  0|    2|     1|[49.0,1.0,1.0,130...|\n",
            "| 64|  1|  3|   110| 211|  0|      0|     144|   1|    1.8|  1|  0|    2|     1|[64.0,1.0,3.0,110...|\n",
            "| 58|  0|  3|   150| 283|  1|      0|     162|   0|    1.0|  2|  0|    2|     1|[58.0,0.0,3.0,150...|\n",
            "| 50|  0|  2|   120| 219|  0|      1|     158|   0|    1.6|  1|  0|    2|     1|[50.0,0.0,2.0,120...|\n",
            "| 58|  0|  2|   120| 340|  0|      1|     172|   0|    0.0|  2|  0|    2|     1|[58.0,0.0,2.0,120...|\n",
            "| 66|  0|  3|   150| 226|  0|      1|     114|   0|    2.6|  0|  0|    2|     1|[66.0,0.0,3.0,150...|\n",
            "| 43|  1|  0|   150| 247|  0|      1|     171|   0|    1.5|  2|  0|    2|     1|[43.0,1.0,0.0,150...|\n",
            "| 69|  0|  3|   140| 239|  0|      1|     151|   0|    1.8|  2|  2|    2|     1|[69.0,0.0,3.0,140...|\n",
            "+---+---+---+------+----+---+-------+--------+----+-------+---+---+-----+------+--------------------+\n",
            "only showing top 20 rows\n",
            "\n"
          ]
        }
      ]
    },
    {
      "cell_type": "code",
      "source": [
        "finaldata=output.select('Independent features','output')\n",
        "finaldata.show()"
      ],
      "metadata": {
        "colab": {
          "base_uri": "https://localhost:8080/"
        },
        "id": "Rz_Fy2I9hUuZ",
        "outputId": "ec853c65-1591-4f28-d246-26eb3ad8aaea"
      },
      "execution_count": 11,
      "outputs": [
        {
          "output_type": "stream",
          "name": "stdout",
          "text": [
            "+--------------------+------+\n",
            "|Independent features|output|\n",
            "+--------------------+------+\n",
            "|[63.0,1.0,3.0,145...|     1|\n",
            "|[37.0,1.0,2.0,130...|     1|\n",
            "|[41.0,0.0,1.0,130...|     1|\n",
            "|[56.0,1.0,1.0,120...|     1|\n",
            "|[57.0,0.0,0.0,120...|     1|\n",
            "|[57.0,1.0,0.0,140...|     1|\n",
            "|[56.0,0.0,1.0,140...|     1|\n",
            "|[44.0,1.0,1.0,120...|     1|\n",
            "|[52.0,1.0,2.0,172...|     1|\n",
            "|[57.0,1.0,2.0,150...|     1|\n",
            "|[54.0,1.0,0.0,140...|     1|\n",
            "|[48.0,0.0,2.0,130...|     1|\n",
            "|[49.0,1.0,1.0,130...|     1|\n",
            "|[64.0,1.0,3.0,110...|     1|\n",
            "|[58.0,0.0,3.0,150...|     1|\n",
            "|[50.0,0.0,2.0,120...|     1|\n",
            "|[58.0,0.0,2.0,120...|     1|\n",
            "|[66.0,0.0,3.0,150...|     1|\n",
            "|[43.0,1.0,0.0,150...|     1|\n",
            "|[69.0,0.0,3.0,140...|     1|\n",
            "+--------------------+------+\n",
            "only showing top 20 rows\n",
            "\n"
          ]
        }
      ]
    },
    {
      "cell_type": "code",
      "source": [
        "from pyspark.ml.regression import LinearRegression"
      ],
      "metadata": {
        "id": "Rwe9_Ufshpxj"
      },
      "execution_count": 12,
      "outputs": []
    },
    {
      "cell_type": "code",
      "source": [
        "train_data,test_data=finaldata.randomSplit([0.75,0.25])"
      ],
      "metadata": {
        "id": "UTVXwdbAhzjZ"
      },
      "execution_count": 13,
      "outputs": []
    },
    {
      "cell_type": "code",
      "source": [
        "reg=LinearRegression(featuresCol='Independent features',labelCol='output')"
      ],
      "metadata": {
        "id": "_K8KiBJTiBvp"
      },
      "execution_count": 14,
      "outputs": []
    },
    {
      "cell_type": "code",
      "source": [
        "reg=reg.fit(train_data)"
      ],
      "metadata": {
        "id": "GE8ONmSDiRVD"
      },
      "execution_count": 15,
      "outputs": []
    },
    {
      "cell_type": "code",
      "source": [
        "reg.coefficients"
      ],
      "metadata": {
        "colab": {
          "base_uri": "https://localhost:8080/"
        },
        "id": "HHaTBaIwiVJi",
        "outputId": "a3be8608-3e05-4cf8-fb3b-b696967ef332"
      },
      "execution_count": 16,
      "outputs": [
        {
          "output_type": "execute_result",
          "data": {
            "text/plain": [
              "DenseVector([-0.0015, -0.2054, 0.1243, -0.0014, -0.0003, 0.0313, 0.0519, 0.0013, -0.1694, -0.0642, 0.0998, -0.1022, -0.0796])"
            ]
          },
          "metadata": {},
          "execution_count": 16
        }
      ]
    },
    {
      "cell_type": "code",
      "source": [
        "reg.intercept"
      ],
      "metadata": {
        "colab": {
          "base_uri": "https://localhost:8080/"
        },
        "id": "T2k0Fo2EinEi",
        "outputId": "38dc292c-2c0a-4681-f5c1-2f8715a31cc3"
      },
      "execution_count": 17,
      "outputs": [
        {
          "output_type": "execute_result",
          "data": {
            "text/plain": [
              "0.9277563047814851"
            ]
          },
          "metadata": {},
          "execution_count": 17
        }
      ]
    },
    {
      "cell_type": "code",
      "source": [
        "Pred_result=reg.evaluate(test_data)"
      ],
      "metadata": {
        "id": "CLUNM-Uli0PR"
      },
      "execution_count": 18,
      "outputs": []
    },
    {
      "cell_type": "code",
      "source": [
        "Pred_result = Pred_result.predictions.show()"
      ],
      "metadata": {
        "colab": {
          "base_uri": "https://localhost:8080/"
        },
        "id": "TBMjHnsLi5ty",
        "outputId": "163e862d-68b3-4a11-a151-7a512464f256"
      },
      "execution_count": 19,
      "outputs": [
        {
          "output_type": "stream",
          "name": "stdout",
          "text": [
            "+--------------------+------+-------------------+\n",
            "|Independent features|output|         prediction|\n",
            "+--------------------+------+-------------------+\n",
            "|(13,[0,1,3,4,7,10...|     0| 0.6294304407943132|\n",
            "|(13,[0,1,3,4,7,10...|     1| 0.7055417779507772|\n",
            "|(13,[0,3,4,7,9,10...|     1| 0.6706512534696265|\n",
            "|(13,[0,3,4,7,9,10...|     1| 0.6021679214105825|\n",
            "|(13,[0,3,4,7,9,11...|     0|0.18135804330872185|\n",
            "|[35.0,1.0,0.0,120...|     0| 0.2591628965623658|\n",
            "|[37.0,0.0,2.0,120...|     1| 1.2110834955039513|\n",
            "|[37.0,1.0,2.0,130...|     1| 0.5802783072004734|\n",
            "|[41.0,0.0,1.0,130...|     1| 0.9301320558946823|\n",
            "|[41.0,1.0,1.0,120...|     1| 0.9069933013088552|\n",
            "|[41.0,1.0,2.0,112...|     1| 1.0140552091383053|\n",
            "|[42.0,0.0,2.0,120...|     1| 1.1093982909571398|\n",
            "|[42.0,1.0,0.0,136...|     0| 0.3339461778667916|\n",
            "|[42.0,1.0,0.0,140...|     1| 0.7285280768433522|\n",
            "|[42.0,1.0,1.0,120...|     1| 0.8418458283609745|\n",
            "|[42.0,1.0,3.0,148...|     1| 0.7772584111833315|\n",
            "|[44.0,0.0,2.0,118...|     1|  0.946733531200914|\n",
            "|[44.0,1.0,0.0,120...|     0| 0.2544876280847266|\n",
            "|[44.0,1.0,1.0,130...|     1| 0.8277022804973525|\n",
            "|[44.0,1.0,2.0,130...|     1| 0.7928620686294279|\n",
            "+--------------------+------+-------------------+\n",
            "only showing top 20 rows\n",
            "\n"
          ]
        }
      ]
    },
    {
      "cell_type": "code",
      "source": [
        "Pred_result = reg.transform(train_data)\n",
        "Pred_result"
      ],
      "metadata": {
        "colab": {
          "base_uri": "https://localhost:8080/"
        },
        "id": "XAHdfXFjhx3r",
        "outputId": "09c1f0c7-f729-4a37-fa6b-7cf255a84ed0"
      },
      "execution_count": 20,
      "outputs": [
        {
          "output_type": "execute_result",
          "data": {
            "text/plain": [
              "DataFrame[Independent features: vector, output: int, prediction: double]"
            ]
          },
          "metadata": {},
          "execution_count": 20
        }
      ]
    },
    {
      "cell_type": "code",
      "source": [
        "selected_columns = ['Independent features','output', 'prediction']\n",
        "result = Pred_result.select(selected_columns)"
      ],
      "metadata": {
        "id": "3wQmTKjSgNJZ"
      },
      "execution_count": 21,
      "outputs": []
    },
    {
      "cell_type": "code",
      "source": [
        "result.show()"
      ],
      "metadata": {
        "colab": {
          "base_uri": "https://localhost:8080/"
        },
        "id": "UwxSQuztkZ4B",
        "outputId": "7be4dfae-5254-42af-d589-f281609f1902"
      },
      "execution_count": 22,
      "outputs": [
        {
          "output_type": "stream",
          "name": "stdout",
          "text": [
            "+--------------------+------+--------------------+\n",
            "|Independent features|output|          prediction|\n",
            "+--------------------+------+--------------------+\n",
            "|(13,[0,1,3,4,7,10...|     1|  0.7087265811641794|\n",
            "|(13,[0,1,3,4,7,10...|     1|  0.6474405823438703|\n",
            "|(13,[0,2,3,4,7,10...|     1|   1.208417953761511|\n",
            "|(13,[0,2,3,4,7,10...|     1|  1.1331899036996993|\n",
            "|(13,[0,2,3,4,7,10...|     1|  1.0913036362021027|\n",
            "|(13,[0,3,4,6,7,10...|     1|  0.9062930042823507|\n",
            "|(13,[0,3,4,6,7,10...|     1|  0.9114387353624704|\n",
            "|(13,[0,3,4,7,8,10...|     1|  0.5701472532921851|\n",
            "|(13,[0,3,4,7,9,10...|     1|  0.7129352025830876|\n",
            "|(13,[0,3,4,7,9,10...|     1|  0.6972736416554713|\n",
            "|(13,[0,3,4,7,9,11...|     0|-0.18894244144606998|\n",
            "|(13,[0,3,4,7,10,1...|     1|  0.7286752132504329|\n",
            "|(13,[0,3,4,7,10,1...|     1|  0.8804692623896908|\n",
            "|(13,[0,3,4,7,10,1...|     1|  0.8420796538902253|\n",
            "|(13,[0,3,4,7,10,1...|     0|  0.8282483360868526|\n",
            "|[29.0,1.0,1.0,130...|     1|  0.8730549283950565|\n",
            "|[34.0,0.0,1.0,118...|     1|   1.080219982547501|\n",
            "|[34.0,1.0,3.0,118...|     1|  1.0995822300029514|\n",
            "|[35.0,0.0,0.0,138...|     1|  0.8742421199847769|\n",
            "|[35.0,1.0,0.0,126...|     0|  0.4138569476691609|\n",
            "+--------------------+------+--------------------+\n",
            "only showing top 20 rows\n",
            "\n"
          ]
        }
      ]
    },
    {
      "cell_type": "code",
      "source": [
        "from pyspark.sql.functions import mean, pow\n",
        "\n",
        "# Calculate the mean squared error using the agg() method\n",
        "mean_squared_error = Pred_result.agg(mean(pow(Pred_result['output'] - Pred_result['prediction'], 2))).collect()[0][0]\n",
        "\n",
        "# Print the mean squared error\n",
        "print(\"Mean squared error:\", mean_squared_error)"
      ],
      "metadata": {
        "colab": {
          "base_uri": "https://localhost:8080/"
        },
        "id": "EIWWkdQLjBMQ",
        "outputId": "076431df-3e25-4660-c1b0-92c6c50f714c"
      },
      "execution_count": 26,
      "outputs": [
        {
          "output_type": "stream",
          "name": "stdout",
          "text": [
            "Mean squared error: 0.12349030809549483\n"
          ]
        }
      ]
    },
    {
      "cell_type": "code",
      "source": [
        "import pandas as pd\n",
        "result_pd = result.toPandas()"
      ],
      "metadata": {
        "id": "PQOBiJwMdS24"
      },
      "execution_count": 27,
      "outputs": []
    },
    {
      "cell_type": "code",
      "source": [
        "result_pd.to_csv('Predictions.csv', index=False)"
      ],
      "metadata": {
        "id": "IWn7ofE1k7cr"
      },
      "execution_count": 28,
      "outputs": []
    },
    {
      "cell_type": "code",
      "source": [
        "###now to separate the independent values to visualize\n",
        "\n",
        "data = pd.read_csv('/content/Predictions.csv')\n",
        "df = pd.DataFrame(data)"
      ],
      "metadata": {
        "id": "mpGBq8lzlYxY"
      },
      "execution_count": 29,
      "outputs": []
    },
    {
      "cell_type": "code",
      "source": [
        "df.head\n"
      ],
      "metadata": {
        "colab": {
          "base_uri": "https://localhost:8080/",
          "height": 186
        },
        "id": "UbisUSOvm1is",
        "outputId": "47effc4a-526e-4ba8-dc0d-c162db5dc164"
      },
      "execution_count": 30,
      "outputs": [
        {
          "output_type": "execute_result",
          "data": {
            "text/plain": [
              "<bound method NDFrame.head of                                   Independent features  output  prediction\n",
              "0    (13,[0,1,3,4,7,10,12],[45.0,1.0,115.0,260.0,18...       1    0.708727\n",
              "1    (13,[0,1,3,4,7,10,12],[59.0,1.0,138.0,271.0,18...       1    0.647441\n",
              "2    (13,[0,2,3,4,7,10],[53.0,2.0,128.0,216.0,115.0...       1    1.208418\n",
              "3    (13,[0,2,3,4,7,10,12],[54.0,2.0,108.0,267.0,16...       1    1.133190\n",
              "4    (13,[0,2,3,4,7,10,12],[63.0,2.0,135.0,252.0,17...       1    1.091304\n",
              "..                                                 ...     ...         ...\n",
              "214  [71.0,0.0,1.0,160.0,302.0,0.0,1.0,162.0,0.0,0....       1    0.713894\n",
              "215  [71.0,0.0,2.0,110.0,265.0,1.0,0.0,130.0,0.0,0....       1    0.984556\n",
              "216  [74.0,0.0,1.0,120.0,269.0,0.0,0.0,121.0,1.0,0....       1    0.614578\n",
              "217  [76.0,0.0,2.0,140.0,197.0,0.0,2.0,116.0,0.0,1....       1    0.937066\n",
              "218  [77.0,1.0,0.0,125.0,304.0,0.0,0.0,162.0,1.0,0....       0    0.127545\n",
              "\n",
              "[219 rows x 3 columns]>"
            ],
            "text/html": [
              "<div style=\"max-width:800px; border: 1px solid var(--colab-border-color);\"><style>\n",
              "      pre.function-repr-contents {\n",
              "        overflow-x: auto;\n",
              "        padding: 8px 12px;\n",
              "        max-height: 500px;\n",
              "      }\n",
              "\n",
              "      pre.function-repr-contents.function-repr-contents-collapsed {\n",
              "        cursor: pointer;\n",
              "        max-height: 100px;\n",
              "      }\n",
              "    </style>\n",
              "    <pre style=\"white-space: initial; background:\n",
              "         var(--colab-secondary-surface-color); padding: 8px 12px;\n",
              "         border-bottom: 1px solid var(--colab-border-color);\"><b>pandas.core.generic.NDFrame.head</b><br/>def head(n: int=5) -&gt; NDFrameT</pre><pre class=\"function-repr-contents function-repr-contents-collapsed\" style=\"\"><a class=\"filepath\" style=\"display:none\" href=\"#\">/usr/local/lib/python3.10/dist-packages/pandas/core/generic.py</a>Return the first `n` rows.\n",
              "\n",
              "This function returns the first `n` rows for the object based\n",
              "on position. It is useful for quickly testing if your object\n",
              "has the right type of data in it.\n",
              "\n",
              "For negative values of `n`, this function returns all rows except\n",
              "the last `|n|` rows, equivalent to ``df[:n]``.\n",
              "\n",
              "If n is larger than the number of rows, this function returns all rows.\n",
              "\n",
              "Parameters\n",
              "----------\n",
              "n : int, default 5\n",
              "    Number of rows to select.\n",
              "\n",
              "Returns\n",
              "-------\n",
              "same type as caller\n",
              "    The first `n` rows of the caller object.\n",
              "\n",
              "See Also\n",
              "--------\n",
              "DataFrame.tail: Returns the last `n` rows.\n",
              "\n",
              "Examples\n",
              "--------\n",
              "&gt;&gt;&gt; df = pd.DataFrame({&#x27;animal&#x27;: [&#x27;alligator&#x27;, &#x27;bee&#x27;, &#x27;falcon&#x27;, &#x27;lion&#x27;,\n",
              "...                    &#x27;monkey&#x27;, &#x27;parrot&#x27;, &#x27;shark&#x27;, &#x27;whale&#x27;, &#x27;zebra&#x27;]})\n",
              "&gt;&gt;&gt; df\n",
              "      animal\n",
              "0  alligator\n",
              "1        bee\n",
              "2     falcon\n",
              "3       lion\n",
              "4     monkey\n",
              "5     parrot\n",
              "6      shark\n",
              "7      whale\n",
              "8      zebra\n",
              "\n",
              "Viewing the first 5 lines\n",
              "\n",
              "&gt;&gt;&gt; df.head()\n",
              "      animal\n",
              "0  alligator\n",
              "1        bee\n",
              "2     falcon\n",
              "3       lion\n",
              "4     monkey\n",
              "\n",
              "Viewing the first `n` lines (three in this case)\n",
              "\n",
              "&gt;&gt;&gt; df.head(3)\n",
              "      animal\n",
              "0  alligator\n",
              "1        bee\n",
              "2     falcon\n",
              "\n",
              "For negative values of `n`\n",
              "\n",
              "&gt;&gt;&gt; df.head(-3)\n",
              "      animal\n",
              "0  alligator\n",
              "1        bee\n",
              "2     falcon\n",
              "3       lion\n",
              "4     monkey\n",
              "5     parrot</pre>\n",
              "      <script>\n",
              "      if (google.colab.kernel.accessAllowed && google.colab.files && google.colab.files.view) {\n",
              "        for (const element of document.querySelectorAll('.filepath')) {\n",
              "          element.style.display = 'block'\n",
              "          element.onclick = (event) => {\n",
              "            event.preventDefault();\n",
              "            event.stopPropagation();\n",
              "            google.colab.files.view(element.textContent, 5559);\n",
              "          };\n",
              "        }\n",
              "      }\n",
              "      for (const element of document.querySelectorAll('.function-repr-contents')) {\n",
              "        element.onclick = (event) => {\n",
              "          event.preventDefault();\n",
              "          event.stopPropagation();\n",
              "          element.classList.toggle('function-repr-contents-collapsed');\n",
              "        };\n",
              "      }\n",
              "      </script>\n",
              "      </div>"
            ]
          },
          "metadata": {},
          "execution_count": 30
        }
      ]
    },
    {
      "cell_type": "code",
      "source": [
        "df = df.drop(df.index[:18])\n",
        "\n",
        "# Reset the index if you want the index to start from 0 again\n",
        "df = df.reset_index(drop=True)\n",
        "\n",
        "# Display the resulting DataFrame\n",
        "print(df)"
      ],
      "metadata": {
        "colab": {
          "base_uri": "https://localhost:8080/"
        },
        "id": "GLjFQBEwnPlX",
        "outputId": "1a447d3c-8fc8-4bef-c7ce-3d25cf949344"
      },
      "execution_count": 31,
      "outputs": [
        {
          "output_type": "stream",
          "name": "stdout",
          "text": [
            "                                  Independent features  output  prediction\n",
            "0    [35.0,0.0,0.0,138.0,183.0,0.0,1.0,182.0,0.0,1....       1    0.874242\n",
            "1    [35.0,1.0,0.0,126.0,282.0,0.0,0.0,156.0,1.0,0....       0    0.413857\n",
            "2    [35.0,1.0,1.0,122.0,192.0,0.0,1.0,174.0,0.0,0....       1    0.893014\n",
            "3    [38.0,1.0,2.0,138.0,175.0,0.0,1.0,173.0,0.0,0....       1    0.584027\n",
            "4    [38.0,1.0,2.0,138.0,175.0,0.0,1.0,173.0,0.0,0....       1    0.584027\n",
            "..                                                 ...     ...         ...\n",
            "196  [71.0,0.0,1.0,160.0,302.0,0.0,1.0,162.0,0.0,0....       1    0.713894\n",
            "197  [71.0,0.0,2.0,110.0,265.0,1.0,0.0,130.0,0.0,0....       1    0.984556\n",
            "198  [74.0,0.0,1.0,120.0,269.0,0.0,0.0,121.0,1.0,0....       1    0.614578\n",
            "199  [76.0,0.0,2.0,140.0,197.0,0.0,2.0,116.0,0.0,1....       1    0.937066\n",
            "200  [77.0,1.0,0.0,125.0,304.0,0.0,0.0,162.0,1.0,0....       0    0.127545\n",
            "\n",
            "[201 rows x 3 columns]\n"
          ]
        }
      ]
    },
    {
      "cell_type": "code",
      "source": [
        "import ast\n",
        "\n",
        "def extract_values(row):\n",
        "    try:\n",
        "        # Safely evaluate the string as a literal node or string representation of Python literals\n",
        "        values = ast.literal_eval(row)\n",
        "        age = values[0] if isinstance(values[0], (int, float)) else None\n",
        "        sex = values[1] if isinstance(values[1], (int, float)) else None\n",
        "        cp = values[2] if isinstance(values[2], (int, float)) else None\n",
        "        trtbps = values[3] if isinstance(values[3], (int, float)) else None\n",
        "        chol = values[4] if isinstance(values[4], (int, float)) else None\n",
        "        fbs = values[5] if isinstance(values[5], (int, float)) else None\n",
        "        restecg = values[6] if isinstance(values[6], (int, float)) else None\n",
        "        thalachh = values[7] if isinstance(values[7], (int, float)) else None\n",
        "        exng = values[8] if isinstance(values[8], (int, float)) else None\n",
        "        oldpeak = values[9] if isinstance(values[9], (int, float)) else None\n",
        "        slp = values[10] if isinstance(values[10], (int, float)) else None\n",
        "        caa = values[11] if isinstance(values[11], (int, float)) else None\n",
        "        thall = values[12] if isinstance(values[12], (int, float)) else None\n",
        "\n",
        "        return pd.Series({'Age': age, 'Sex': sex, 'CP': cp, 'TRTBPS': trtbps, 'CHOL' : chol, 'FBS': fbs, 'RESTECG': restecg,\n",
        "                          'THALACHH': thalachh, 'EXNG': exng, 'OLDPEAK': oldpeak, 'SLP': slp, 'CAA': caa, 'THALL': thall})\n",
        "    except (ValueError, IndexError):\n",
        "        return pd.Series({'Age': None, 'Sex': None, 'CP': None, 'TRTBPS': None, 'CHOL' : None, 'FBS': None, 'RESTECG': None,\n",
        "                          'THALACHH': None, 'EXNG': None, 'OLDPEAK': None, 'SLP': None, 'CAA': None, 'THALL': None})"
      ],
      "metadata": {
        "id": "SbFNP-npmFjZ"
      },
      "execution_count": 32,
      "outputs": []
    },
    {
      "cell_type": "code",
      "source": [
        "# Apply the function to create new columns\n",
        "df[['Age', 'Sex', 'CP', 'TRTBPS', 'CHOL', 'FBS', 'RESTECG','THALACHH', 'EXNG', 'OLDPEAK', 'SLP', 'CAA', 'THALL']] = df['Independent features'].apply(extract_values)"
      ],
      "metadata": {
        "id": "9tfTrM8HqI0m"
      },
      "execution_count": 33,
      "outputs": []
    },
    {
      "cell_type": "code",
      "source": [
        "print(df)"
      ],
      "metadata": {
        "colab": {
          "base_uri": "https://localhost:8080/"
        },
        "id": "_-JlXO-5q0It",
        "outputId": "54a51d60-7b6a-4e72-d57b-c77f9c3501b2"
      },
      "execution_count": 34,
      "outputs": [
        {
          "output_type": "stream",
          "name": "stdout",
          "text": [
            "                                  Independent features  output  prediction  \\\n",
            "0    [35.0,0.0,0.0,138.0,183.0,0.0,1.0,182.0,0.0,1....       1    0.874242   \n",
            "1    [35.0,1.0,0.0,126.0,282.0,0.0,0.0,156.0,1.0,0....       0    0.413857   \n",
            "2    [35.0,1.0,1.0,122.0,192.0,0.0,1.0,174.0,0.0,0....       1    0.893014   \n",
            "3    [38.0,1.0,2.0,138.0,175.0,0.0,1.0,173.0,0.0,0....       1    0.584027   \n",
            "4    [38.0,1.0,2.0,138.0,175.0,0.0,1.0,173.0,0.0,0....       1    0.584027   \n",
            "..                                                 ...     ...         ...   \n",
            "196  [71.0,0.0,1.0,160.0,302.0,0.0,1.0,162.0,0.0,0....       1    0.713894   \n",
            "197  [71.0,0.0,2.0,110.0,265.0,1.0,0.0,130.0,0.0,0....       1    0.984556   \n",
            "198  [74.0,0.0,1.0,120.0,269.0,0.0,0.0,121.0,1.0,0....       1    0.614578   \n",
            "199  [76.0,0.0,2.0,140.0,197.0,0.0,2.0,116.0,0.0,1....       1    0.937066   \n",
            "200  [77.0,1.0,0.0,125.0,304.0,0.0,0.0,162.0,1.0,0....       0    0.127545   \n",
            "\n",
            "      Age  Sex   CP  TRTBPS   CHOL  FBS  RESTECG  THALACHH  EXNG  OLDPEAK  \\\n",
            "0    35.0  0.0  0.0   138.0  183.0  0.0      1.0     182.0   0.0      1.4   \n",
            "1    35.0  1.0  0.0   126.0  282.0  0.0      0.0     156.0   1.0      0.0   \n",
            "2    35.0  1.0  1.0   122.0  192.0  0.0      1.0     174.0   0.0      0.0   \n",
            "3    38.0  1.0  2.0   138.0  175.0  0.0      1.0     173.0   0.0      0.0   \n",
            "4    38.0  1.0  2.0   138.0  175.0  0.0      1.0     173.0   0.0      0.0   \n",
            "..    ...  ...  ...     ...    ...  ...      ...       ...   ...      ...   \n",
            "196  71.0  0.0  1.0   160.0  302.0  0.0      1.0     162.0   0.0      0.4   \n",
            "197  71.0  0.0  2.0   110.0  265.0  1.0      0.0     130.0   0.0      0.0   \n",
            "198  74.0  0.0  1.0   120.0  269.0  0.0      0.0     121.0   1.0      0.2   \n",
            "199  76.0  0.0  2.0   140.0  197.0  0.0      2.0     116.0   0.0      1.1   \n",
            "200  77.0  1.0  0.0   125.0  304.0  0.0      0.0     162.0   1.0      0.0   \n",
            "\n",
            "     SLP  CAA  THALL  \n",
            "0    2.0  0.0    2.0  \n",
            "1    2.0  0.0    3.0  \n",
            "2    2.0  0.0    2.0  \n",
            "3    2.0  4.0    2.0  \n",
            "4    2.0  4.0    2.0  \n",
            "..   ...  ...    ...  \n",
            "196  2.0  2.0    2.0  \n",
            "197  2.0  1.0    2.0  \n",
            "198  2.0  1.0    2.0  \n",
            "199  1.0  0.0    2.0  \n",
            "200  2.0  3.0    2.0  \n",
            "\n",
            "[201 rows x 16 columns]\n"
          ]
        }
      ]
    },
    {
      "cell_type": "code",
      "source": [
        "df.to_csv('Predictions_updated.csv', index=False)"
      ],
      "metadata": {
        "id": "r-54mwjIq6CS"
      },
      "execution_count": 35,
      "outputs": []
    }
  ]
}